{
 "cells": [
  {
   "cell_type": "markdown",
   "metadata": {
    "application/vnd.databricks.v1+cell": {
     "cellMetadata": {},
     "inputWidgets": {},
     "nuid": "15e18f2e-41b4-495b-ad7a-7e78fa6b4be0",
     "showTitle": false,
     "tableResultSettingsMap": {},
     "title": ""
    }
   },
   "source": [
    "# Week 1 Sales Data Exploration\n",
    "\n",
    "This notebook explores the Week 1 sales dataset to understand its structure, identify issues, and perform initial transformations. We will:\n",
    "\n",
    "- Load and inspect data\n",
    "- Clean missing values\n",
    "- Convert data types\n",
    "- Create new features\n",
    "- Save processed data for future use\n",
    "\n"
   ]
  },
  {
   "cell_type": "code",
   "execution_count": 0,
   "metadata": {
    "application/vnd.databricks.v1+cell": {
     "cellMetadata": {
      "byteLimit": 2048000,
      "rowLimit": 10000
     },
     "inputWidgets": {},
     "nuid": "e92bbc61-3d47-4fe7-a179-c7ed8cda7448",
     "showTitle": false,
     "tableResultSettingsMap": {},
     "title": ""
    }
   },
   "outputs": [
    {
     "output_type": "stream",
     "name": "stdout",
     "output_type": "stream",
     "text": [
      "Hello, Databricks!\n"
     ]
    }
   ],
   "source": [
    "# Print a simple message to verify that the notebook is running successfully\n",
    "print(\"Hello, Databricks!\")\n"
   ]
  },
  {
   "cell_type": "code",
   "execution_count": 0,
   "metadata": {
    "application/vnd.databricks.v1+cell": {
     "cellMetadata": {
      "byteLimit": 2048000,
      "rowLimit": 10000
     },
     "inputWidgets": {},
     "nuid": "9b264143-9084-40ad-a6f8-8e05df206dc3",
     "showTitle": false,
     "tableResultSettingsMap": {},
     "title": ""
    }
   },
   "outputs": [
    {
     "output_type": "stream",
     "name": "stdout",
     "output_type": "stream",
     "text": [
      "Jean-Hénock VIAYINON\n"
     ]
    }
   ],
   "source": [
    "# Assigning my name to a variable and print it out as a basic Python variable example\n",
    "my_name = \"Jean-Hénock VIAYINON\"\n",
    "print(my_name)\n"
   ]
  },
  {
   "cell_type": "code",
   "execution_count": 0,
   "metadata": {
    "application/vnd.databricks.v1+cell": {
     "cellMetadata": {
      "byteLimit": 2048000,
      "implicitDf": true,
      "rowLimit": 10000
     },
     "inputWidgets": {},
     "nuid": "45a955a6-0397-42f9-be29-e54097a57bbe",
     "showTitle": false,
     "tableResultSettingsMap": {},
     "title": ""
    }
   },
   "outputs": [
    {
     "output_type": "display_data",
     "data": {
      "text/html": [
       "<style scoped>\n",
       "  .table-result-container {\n",
       "    max-height: 300px;\n",
       "    overflow: auto;\n",
       "  }\n",
       "  table, th, td {\n",
       "    border: 1px solid black;\n",
       "    border-collapse: collapse;\n",
       "  }\n",
       "  th, td {\n",
       "    padding: 5px;\n",
       "  }\n",
       "  th {\n",
       "    text-align: left;\n",
       "  }\n",
       "</style><div class='table-result-container'><table class='table-result'><thead style='background-color: white'><tr><th>message</th></tr></thead><tbody><tr><td>Hello from SQL!</td></tr></tbody></table></div>"
      ]
     },
     "metadata": {
      "application/vnd.databricks.v1+output": {
       "addedWidgets": {},
       "aggData": [],
       "aggError": "",
       "aggOverflow": false,
       "aggSchema": [],
       "aggSeriesLimitReached": false,
       "aggType": "",
       "arguments": {},
       "columnCustomDisplayInfos": {},
       "data": [
        [
         "Hello from SQL!"
        ]
       ],
       "datasetInfos": [
        {
         "name": "_sqldf",
         "schema": {
          "fields": [
           {
            "metadata": {},
            "name": "message",
            "nullable": false,
            "type": "string"
           }
          ],
          "type": "struct"
         },
         "tableIdentifier": null,
         "typeStr": "pyspark.sql.connect.dataframe.DataFrame"
        }
       ],
       "dbfsResultPath": null,
       "isJsonSchema": true,
       "metadata": {
        "createTempViewForImplicitDf": true,
        "dataframeName": "_sqldf",
        "executionCount": 6
       },
       "overflow": false,
       "plotOptions": {
        "customPlotOptions": {},
        "displayType": "table",
        "pivotAggregation": null,
        "pivotColumns": null,
        "xColumns": null,
        "yColumns": null
       },
       "removedWidgets": [],
       "schema": [
        {
         "metadata": "{}",
         "name": "message",
         "type": "\"string\""
        }
       ],
       "type": "table"
      }
     },
     "output_type": "display_data"
    }
   ],
   "source": [
    "%sql\n",
    "-- This SQL statement selects a static string and labels it as 'message'.\n",
    "-- It's a simple example to test SQL integration in the Databricks notebook.\n",
    "\n",
    "SELECT \"Hello from SQL!\" AS message;\n"
   ]
  },
  {
   "cell_type": "markdown",
   "metadata": {
    "application/vnd.databricks.v1+cell": {
     "cellMetadata": {},
     "inputWidgets": {},
     "nuid": "c9a5824b-aff8-4619-91d1-cb566bf5ef81",
     "showTitle": false,
     "tableResultSettingsMap": {},
     "title": ""
    }
   },
   "source": [
    "### Loading the Sales Data Table\n",
    "\n",
    "We load the `mock_sales_data` table from the `bricks_space.default` catalog using Spark. This allows us to explore and manipulate the data using PySpark. The `.show()` method displays the first few rows for an initial look at the dataset."
   ]
  },
  {
   "cell_type": "code",
   "execution_count": 0,
   "metadata": {
    "application/vnd.databricks.v1+cell": {
     "cellMetadata": {
      "byteLimit": 2048000,
      "rowLimit": 10000
     },
     "inputWidgets": {},
     "nuid": "b1c3d7dd-11af-4d79-b91b-e9fd7f96b3b3",
     "showTitle": false,
     "tableResultSettingsMap": {},
     "title": ""
    }
   },
   "outputs": [
    {
     "output_type": "stream",
     "name": "stdout",
     "output_type": "stream",
     "text": [
      "+-------------+-------------------+----------+--------------------+---------------+--------+----------+-------------+-------------+\n|TransactionID|    TransactionDate|CustomerID|             Product|ProductCategory|Quantity|SaleAmount|PaymentMethod|StoreLocation|\n+-------------+-------------------+----------+--------------------+---------------+--------+----------+-------------+-------------+\n|       TID001|2023-01-15 10:30:00|   CUST085|          Laptop Pro|    Electronics|       1|    1200.0|  Credit Card|       Online|\n|       TID002|2023-01-15 11:05:00|   CUST102|      Wireless Mouse|    Electronics|       2|      50.0|       PayPal|       Online|\n|       TID003|2023-01-16 14:20:00|   CUST085|        Office Chair|      Furniture|       1|     150.0|  Credit Card|       Online|\n|       TID004|2023-01-17 09:00:00|   CUST210|        Coffee Maker|     Appliances|       1|      75.5|   Debit Card|     New York|\n|       TID005|2023-01-17 16:45:00|   CUST102|Book \"Data Scienc...|          Books|       3|      90.0|       PayPal|       Online|\n|       TID006|2023-01-18 10:00:00|   CUST301|        Smartphone X|    Electronics|       1|     800.0|         NULL|       Online|\n|       TID007|2023-01-19 12:12:00|   CUST007| External Hard Drive|    Electronics|       1|     120.0|  Credit Card|       Online|\n|       TID008|2023-01-20 13:15:00|   CUST085|           Desk Lamp|      Furniture|       1|      45.0|  Credit Card|       Online|\n|       TID009|2023-01-21 10:05:00|   CUST210|             Toaster|     Appliances|       1|      30.0|   Debit Card|     New York|\n|       TID010|2023-01-22 11:30:00|   CUST102|Book \"Advanced Py...|          Books|       1|      55.0|       PayPal|       Online|\n|       TID011|2023-01-23 15:00:00|   CUST450|     Gaming Keyboard|    Electronics|       1|     130.0|  Credit Card|       Online|\n|       TID012|2023-01-24 09:45:00|   CUST085|           Bookshelf|      Furniture|       1|     220.0|         NULL|       Online|\n|       TID013|2023-01-25 17:00:00|   CUST301|         Smart Watch|    Electronics|       1|     250.0|       PayPal|       Online|\n|       TID014|2023-01-26 10:20:00|   CUST210|             Blender|     Appliances|       1|     60.75|   Debit Card|     New York|\n|       TID015|2023-01-27 11:50:00|   CUST102|Book \"Learning Sp...|          Books|       2|      80.0|  Credit Card|       Online|\n|       TID016|2023-01-28 14:30:00|   CUST007|             Monitor|    Electronics|       1|     300.0|  Credit Card|       Online|\n|       TID017|2023-01-29 09:15:00|   CUST450|     Ergonomic Mouse|    Electronics|       1|      65.0|       PayPal|       Online|\n|       TID018|2023-01-30 16:00:00|   CUST085|      Filing Cabinet|      Furniture|       1|     180.0|  Credit Card|       Online|\n|       TID019|2023-01-31 10:00:00|   CUST301|          Headphones|    Electronics|       1|     99.99|   Debit Card|       Online|\n|       TID020|2023-02-01 12:00:00|   CUST210|           Air Fryer|     Appliances|       1|     110.0|  Credit Card|     New York|\n+-------------+-------------------+----------+--------------------+---------------+--------+----------+-------------+-------------+\n\n"
     ]
    }
   ],
   "source": [
    "# Load the mock sales data table into a Spark DataFrame\n",
    "sales_df = spark.table(\"bricks_space.default.mock_sales_data\")\n",
    "\n",
    "# Display the first few rows of the DataFrame\n",
    "sales_df.show()\n"
   ]
  },
  {
   "cell_type": "markdown",
   "metadata": {
    "application/vnd.databricks.v1+cell": {
     "cellMetadata": {},
     "inputWidgets": {},
     "nuid": "725177d0-d1e7-47b2-aa95-d51a48a3f5b6",
     "showTitle": false,
     "tableResultSettingsMap": {},
     "title": ""
    }
   },
   "source": [
    "### Exploring the Full Sales Dataset\n",
    "\n",
    "This SQL query retrieves all records from the `mock_sales_data` table to allow a full inspection of the dataset directly within the notebook environment.\n"
   ]
  },
  {
   "cell_type": "code",
   "execution_count": 0,
   "metadata": {
    "application/vnd.databricks.v1+cell": {
     "cellMetadata": {
      "byteLimit": 2048000,
      "implicitDf": true,
      "rowLimit": 10000
     },
     "inputWidgets": {},
     "nuid": "607a15b2-b7d8-491e-a36b-72a7a2fc4953",
     "showTitle": false,
     "tableResultSettingsMap": {},
     "title": ""
    }
   },
   "outputs": [
    {
     "output_type": "display_data",
     "data": {
      "text/html": [
       "<style scoped>\n",
       "  .table-result-container {\n",
       "    max-height: 300px;\n",
       "    overflow: auto;\n",
       "  }\n",
       "  table, th, td {\n",
       "    border: 1px solid black;\n",
       "    border-collapse: collapse;\n",
       "  }\n",
       "  th, td {\n",
       "    padding: 5px;\n",
       "  }\n",
       "  th {\n",
       "    text-align: left;\n",
       "  }\n",
       "</style><div class='table-result-container'><table class='table-result'><thead style='background-color: white'><tr><th>TransactionID</th><th>TransactionDate</th><th>CustomerID</th><th>Product</th><th>ProductCategory</th><th>Quantity</th><th>SaleAmount</th><th>PaymentMethod</th><th>StoreLocation</th></tr></thead><tbody><tr><td>TID001</td><td>2023-01-15T10:30:00.000Z</td><td>CUST085</td><td>Laptop Pro</td><td>Electronics</td><td>1</td><td>1200.0</td><td>Credit Card</td><td>Online</td></tr><tr><td>TID002</td><td>2023-01-15T11:05:00.000Z</td><td>CUST102</td><td>Wireless Mouse</td><td>Electronics</td><td>2</td><td>50.0</td><td>PayPal</td><td>Online</td></tr><tr><td>TID003</td><td>2023-01-16T14:20:00.000Z</td><td>CUST085</td><td>Office Chair</td><td>Furniture</td><td>1</td><td>150.0</td><td>Credit Card</td><td>Online</td></tr><tr><td>TID004</td><td>2023-01-17T09:00:00.000Z</td><td>CUST210</td><td>Coffee Maker</td><td>Appliances</td><td>1</td><td>75.5</td><td>Debit Card</td><td>New York</td></tr><tr><td>TID005</td><td>2023-01-17T16:45:00.000Z</td><td>CUST102</td><td>Book \"Data Science Intro\"</td><td>Books</td><td>3</td><td>90.0</td><td>PayPal</td><td>Online</td></tr><tr><td>TID006</td><td>2023-01-18T10:00:00.000Z</td><td>CUST301</td><td>Smartphone X</td><td>Electronics</td><td>1</td><td>800.0</td><td>null</td><td>Online</td></tr><tr><td>TID007</td><td>2023-01-19T12:12:00.000Z</td><td>CUST007</td><td>External Hard Drive</td><td>Electronics</td><td>1</td><td>120.0</td><td>Credit Card</td><td>Online</td></tr><tr><td>TID008</td><td>2023-01-20T13:15:00.000Z</td><td>CUST085</td><td>Desk Lamp</td><td>Furniture</td><td>1</td><td>45.0</td><td>Credit Card</td><td>Online</td></tr><tr><td>TID009</td><td>2023-01-21T10:05:00.000Z</td><td>CUST210</td><td>Toaster</td><td>Appliances</td><td>1</td><td>30.0</td><td>Debit Card</td><td>New York</td></tr><tr><td>TID010</td><td>2023-01-22T11:30:00.000Z</td><td>CUST102</td><td>Book \"Advanced Python\"</td><td>Books</td><td>1</td><td>55.0</td><td>PayPal</td><td>Online</td></tr><tr><td>TID011</td><td>2023-01-23T15:00:00.000Z</td><td>CUST450</td><td>Gaming Keyboard</td><td>Electronics</td><td>1</td><td>130.0</td><td>Credit Card</td><td>Online</td></tr><tr><td>TID012</td><td>2023-01-24T09:45:00.000Z</td><td>CUST085</td><td>Bookshelf</td><td>Furniture</td><td>1</td><td>220.0</td><td>null</td><td>Online</td></tr><tr><td>TID013</td><td>2023-01-25T17:00:00.000Z</td><td>CUST301</td><td>Smart Watch</td><td>Electronics</td><td>1</td><td>250.0</td><td>PayPal</td><td>Online</td></tr><tr><td>TID014</td><td>2023-01-26T10:20:00.000Z</td><td>CUST210</td><td>Blender</td><td>Appliances</td><td>1</td><td>60.75</td><td>Debit Card</td><td>New York</td></tr><tr><td>TID015</td><td>2023-01-27T11:50:00.000Z</td><td>CUST102</td><td>Book \"Learning Spark\"</td><td>Books</td><td>2</td><td>80.0</td><td>Credit Card</td><td>Online</td></tr><tr><td>TID016</td><td>2023-01-28T14:30:00.000Z</td><td>CUST007</td><td>Monitor</td><td>Electronics</td><td>1</td><td>300.0</td><td>Credit Card</td><td>Online</td></tr><tr><td>TID017</td><td>2023-01-29T09:15:00.000Z</td><td>CUST450</td><td>Ergonomic Mouse</td><td>Electronics</td><td>1</td><td>65.0</td><td>PayPal</td><td>Online</td></tr><tr><td>TID018</td><td>2023-01-30T16:00:00.000Z</td><td>CUST085</td><td>Filing Cabinet</td><td>Furniture</td><td>1</td><td>180.0</td><td>Credit Card</td><td>Online</td></tr><tr><td>TID019</td><td>2023-01-31T10:00:00.000Z</td><td>CUST301</td><td>Headphones</td><td>Electronics</td><td>1</td><td>99.99</td><td>Debit Card</td><td>Online</td></tr><tr><td>TID020</td><td>2023-02-01T12:00:00.000Z</td><td>CUST210</td><td>Air Fryer</td><td>Appliances</td><td>1</td><td>110.0</td><td>Credit Card</td><td>New York</td></tr></tbody></table></div>"
      ]
     },
     "metadata": {
      "application/vnd.databricks.v1+output": {
       "addedWidgets": {},
       "aggData": [],
       "aggError": "",
       "aggOverflow": false,
       "aggSchema": [],
       "aggSeriesLimitReached": false,
       "aggType": "",
       "arguments": {},
       "columnCustomDisplayInfos": {},
       "data": [
        [
         "TID001",
         "2023-01-15T10:30:00.000Z",
         "CUST085",
         "Laptop Pro",
         "Electronics",
         1,
         1200.0,
         "Credit Card",
         "Online"
        ],
        [
         "TID002",
         "2023-01-15T11:05:00.000Z",
         "CUST102",
         "Wireless Mouse",
         "Electronics",
         2,
         50.0,
         "PayPal",
         "Online"
        ],
        [
         "TID003",
         "2023-01-16T14:20:00.000Z",
         "CUST085",
         "Office Chair",
         "Furniture",
         1,
         150.0,
         "Credit Card",
         "Online"
        ],
        [
         "TID004",
         "2023-01-17T09:00:00.000Z",
         "CUST210",
         "Coffee Maker",
         "Appliances",
         1,
         75.5,
         "Debit Card",
         "New York"
        ],
        [
         "TID005",
         "2023-01-17T16:45:00.000Z",
         "CUST102",
         "Book \"Data Science Intro\"",
         "Books",
         3,
         90.0,
         "PayPal",
         "Online"
        ],
        [
         "TID006",
         "2023-01-18T10:00:00.000Z",
         "CUST301",
         "Smartphone X",
         "Electronics",
         1,
         800.0,
         null,
         "Online"
        ],
        [
         "TID007",
         "2023-01-19T12:12:00.000Z",
         "CUST007",
         "External Hard Drive",
         "Electronics",
         1,
         120.0,
         "Credit Card",
         "Online"
        ],
        [
         "TID008",
         "2023-01-20T13:15:00.000Z",
         "CUST085",
         "Desk Lamp",
         "Furniture",
         1,
         45.0,
         "Credit Card",
         "Online"
        ],
        [
         "TID009",
         "2023-01-21T10:05:00.000Z",
         "CUST210",
         "Toaster",
         "Appliances",
         1,
         30.0,
         "Debit Card",
         "New York"
        ],
        [
         "TID010",
         "2023-01-22T11:30:00.000Z",
         "CUST102",
         "Book \"Advanced Python\"",
         "Books",
         1,
         55.0,
         "PayPal",
         "Online"
        ],
        [
         "TID011",
         "2023-01-23T15:00:00.000Z",
         "CUST450",
         "Gaming Keyboard",
         "Electronics",
         1,
         130.0,
         "Credit Card",
         "Online"
        ],
        [
         "TID012",
         "2023-01-24T09:45:00.000Z",
         "CUST085",
         "Bookshelf",
         "Furniture",
         1,
         220.0,
         null,
         "Online"
        ],
        [
         "TID013",
         "2023-01-25T17:00:00.000Z",
         "CUST301",
         "Smart Watch",
         "Electronics",
         1,
         250.0,
         "PayPal",
         "Online"
        ],
        [
         "TID014",
         "2023-01-26T10:20:00.000Z",
         "CUST210",
         "Blender",
         "Appliances",
         1,
         60.75,
         "Debit Card",
         "New York"
        ],
        [
         "TID015",
         "2023-01-27T11:50:00.000Z",
         "CUST102",
         "Book \"Learning Spark\"",
         "Books",
         2,
         80.0,
         "Credit Card",
         "Online"
        ],
        [
         "TID016",
         "2023-01-28T14:30:00.000Z",
         "CUST007",
         "Monitor",
         "Electronics",
         1,
         300.0,
         "Credit Card",
         "Online"
        ],
        [
         "TID017",
         "2023-01-29T09:15:00.000Z",
         "CUST450",
         "Ergonomic Mouse",
         "Electronics",
         1,
         65.0,
         "PayPal",
         "Online"
        ],
        [
         "TID018",
         "2023-01-30T16:00:00.000Z",
         "CUST085",
         "Filing Cabinet",
         "Furniture",
         1,
         180.0,
         "Credit Card",
         "Online"
        ],
        [
         "TID019",
         "2023-01-31T10:00:00.000Z",
         "CUST301",
         "Headphones",
         "Electronics",
         1,
         99.99,
         "Debit Card",
         "Online"
        ],
        [
         "TID020",
         "2023-02-01T12:00:00.000Z",
         "CUST210",
         "Air Fryer",
         "Appliances",
         1,
         110.0,
         "Credit Card",
         "New York"
        ]
       ],
       "datasetInfos": [
        {
         "name": "_sqldf",
         "schema": {
          "fields": [
           {
            "metadata": {},
            "name": "TransactionID",
            "nullable": true,
            "type": "string"
           },
           {
            "metadata": {},
            "name": "TransactionDate",
            "nullable": true,
            "type": "timestamp"
           },
           {
            "metadata": {},
            "name": "CustomerID",
            "nullable": true,
            "type": "string"
           },
           {
            "metadata": {},
            "name": "Product",
            "nullable": true,
            "type": "string"
           },
           {
            "metadata": {},
            "name": "ProductCategory",
            "nullable": true,
            "type": "string"
           },
           {
            "metadata": {},
            "name": "Quantity",
            "nullable": true,
            "type": "long"
           },
           {
            "metadata": {},
            "name": "SaleAmount",
            "nullable": true,
            "type": "double"
           },
           {
            "metadata": {},
            "name": "PaymentMethod",
            "nullable": true,
            "type": "string"
           },
           {
            "metadata": {},
            "name": "StoreLocation",
            "nullable": true,
            "type": "string"
           }
          ],
          "type": "struct"
         },
         "tableIdentifier": null,
         "typeStr": "pyspark.sql.connect.dataframe.DataFrame"
        }
       ],
       "dbfsResultPath": null,
       "isJsonSchema": true,
       "metadata": {
        "createTempViewForImplicitDf": true,
        "dataframeName": "_sqldf",
        "executionCount": 65
       },
       "overflow": false,
       "plotOptions": {
        "customPlotOptions": {},
        "displayType": "table",
        "pivotAggregation": null,
        "pivotColumns": null,
        "xColumns": null,
        "yColumns": null
       },
       "removedWidgets": [],
       "schema": [
        {
         "metadata": "{}",
         "name": "TransactionID",
         "type": "\"string\""
        },
        {
         "metadata": "{}",
         "name": "TransactionDate",
         "type": "\"timestamp\""
        },
        {
         "metadata": "{}",
         "name": "CustomerID",
         "type": "\"string\""
        },
        {
         "metadata": "{}",
         "name": "Product",
         "type": "\"string\""
        },
        {
         "metadata": "{}",
         "name": "ProductCategory",
         "type": "\"string\""
        },
        {
         "metadata": "{}",
         "name": "Quantity",
         "type": "\"long\""
        },
        {
         "metadata": "{}",
         "name": "SaleAmount",
         "type": "\"double\""
        },
        {
         "metadata": "{}",
         "name": "PaymentMethod",
         "type": "\"string\""
        },
        {
         "metadata": "{}",
         "name": "StoreLocation",
         "type": "\"string\""
        }
       ],
       "type": "table"
      }
     },
     "output_type": "display_data"
    }
   ],
   "source": [
    "%sql\n",
    "-- Retrieve all rows from the mock_sales_data table\n",
    "%sql\n",
    "SELECT * FROM bricks_space.default.mock_sales_data\n"
   ]
  },
  {
   "cell_type": "markdown",
   "metadata": {
    "application/vnd.databricks.v1+cell": {
     "cellMetadata": {},
     "inputWidgets": {},
     "nuid": "0a30254c-3c23-4999-a75a-7e9f690bee22",
     "showTitle": false,
     "tableResultSettingsMap": {},
     "title": ""
    }
   },
   "source": [
    "### Inspecting Table Metadata\n",
    "\n",
    "This command uses `DESCRIBE EXTENDED` to view the structure and metadata of the `mock_sales_data` table, including column data types, table location, and additional properties. This helps ensure we understand the schema before performing transformations.\n"
   ]
  },
  {
   "cell_type": "code",
   "execution_count": 0,
   "metadata": {
    "application/vnd.databricks.v1+cell": {
     "cellMetadata": {
      "byteLimit": 2048000,
      "implicitDf": true,
      "rowLimit": 10000
     },
     "inputWidgets": {},
     "nuid": "4efc480a-1aca-47d0-ac5b-aa92093f488f",
     "showTitle": false,
     "tableResultSettingsMap": {},
     "title": ""
    }
   },
   "outputs": [
    {
     "output_type": "display_data",
     "data": {
      "text/html": [
       "<style scoped>\n",
       "  .table-result-container {\n",
       "    max-height: 300px;\n",
       "    overflow: auto;\n",
       "  }\n",
       "  table, th, td {\n",
       "    border: 1px solid black;\n",
       "    border-collapse: collapse;\n",
       "  }\n",
       "  th, td {\n",
       "    padding: 5px;\n",
       "  }\n",
       "  th {\n",
       "    text-align: left;\n",
       "  }\n",
       "</style><div class='table-result-container'><table class='table-result'><thead style='background-color: white'><tr><th>col_name</th><th>data_type</th><th>comment</th></tr></thead><tbody><tr><td>TransactionID</td><td>string</td><td>null</td></tr><tr><td>TransactionDate</td><td>timestamp</td><td>null</td></tr><tr><td>CustomerID</td><td>string</td><td>null</td></tr><tr><td>Product</td><td>string</td><td>null</td></tr><tr><td>ProductCategory</td><td>string</td><td>null</td></tr><tr><td>Quantity</td><td>bigint</td><td>null</td></tr><tr><td>SaleAmount</td><td>double</td><td>null</td></tr><tr><td>PaymentMethod</td><td>string</td><td>null</td></tr><tr><td>StoreLocation</td><td>string</td><td>null</td></tr><tr><td></td><td></td><td></td></tr><tr><td># Delta Statistics Columns</td><td></td><td></td></tr><tr><td>Column Names</td><td>Quantity, CustomerID, StoreLocation, ProductCategory, TransactionDate, Product, TransactionID, SaleAmount, PaymentMethod</td><td></td></tr><tr><td>Column Selection Method</td><td>first-32</td><td></td></tr><tr><td></td><td></td><td></td></tr><tr><td># Detailed Table Information</td><td></td><td></td></tr><tr><td>Catalog</td><td>bricks_space</td><td></td></tr><tr><td>Database</td><td>default</td><td></td></tr><tr><td>Table</td><td>mock_sales_data</td><td></td></tr><tr><td>Created Time</td><td>Mon May 19 00:11:34 UTC 2025</td><td></td></tr><tr><td>Last Access</td><td>UNKNOWN</td><td></td></tr><tr><td>Created By</td><td>Spark </td><td></td></tr><tr><td>Type</td><td>MANAGED</td><td></td></tr><tr><td>Comment</td><td>The mock_sales_data table contains information about sales transactions, including details such as transaction date, customer ID, product sold, quantity, sale amount, payment method, and store location. This data is crucial for analyzing sales performance, customer behavior, and product popularity. It helps the business track revenue, identify trends, and make informed decisions regarding inventory management and marketing strategies.</td><td></td></tr><tr><td>Location</td><td>abfss://unity-catalog-storage@dbstoragerdkhytpq2g2hm.dfs.core.windows.net/2251643177643270/__unitystorage/catalogs/80582810-3d29-455a-9122-955cb619197f/tables/c7714bf6-b247-49b2-85e1-96ba32358831</td><td></td></tr><tr><td>Provider</td><td>delta</td><td></td></tr><tr><td>Owner</td><td>henocksjean@gmail.com</td><td></td></tr><tr><td>Is_managed_location</td><td>true</td><td></td></tr><tr><td>Predictive Optimization</td><td>ENABLE (inherited from METASTORE metastore_azure_eastus)</td><td></td></tr><tr><td>Table Properties</td><td>[delta.checkpoint.writeStatsAsJson=false,delta.checkpoint.writeStatsAsStruct=true,delta.enableDeletionVectors=true,delta.feature.appendOnly=supported,delta.feature.deletionVectors=supported,delta.feature.invariants=supported,delta.minReaderVersion=3,delta.minWriterVersion=7]</td><td></td></tr></tbody></table></div>"
      ]
     },
     "metadata": {
      "application/vnd.databricks.v1+output": {
       "addedWidgets": {},
       "aggData": [],
       "aggError": "",
       "aggOverflow": false,
       "aggSchema": [],
       "aggSeriesLimitReached": false,
       "aggType": "",
       "arguments": {},
       "columnCustomDisplayInfos": {},
       "data": [
        [
         "TransactionID",
         "string",
         null
        ],
        [
         "TransactionDate",
         "timestamp",
         null
        ],
        [
         "CustomerID",
         "string",
         null
        ],
        [
         "Product",
         "string",
         null
        ],
        [
         "ProductCategory",
         "string",
         null
        ],
        [
         "Quantity",
         "bigint",
         null
        ],
        [
         "SaleAmount",
         "double",
         null
        ],
        [
         "PaymentMethod",
         "string",
         null
        ],
        [
         "StoreLocation",
         "string",
         null
        ],
        [
         "",
         "",
         ""
        ],
        [
         "# Delta Statistics Columns",
         "",
         ""
        ],
        [
         "Column Names",
         "Quantity, CustomerID, StoreLocation, ProductCategory, TransactionDate, Product, TransactionID, SaleAmount, PaymentMethod",
         ""
        ],
        [
         "Column Selection Method",
         "first-32",
         ""
        ],
        [
         "",
         "",
         ""
        ],
        [
         "# Detailed Table Information",
         "",
         ""
        ],
        [
         "Catalog",
         "bricks_space",
         ""
        ],
        [
         "Database",
         "default",
         ""
        ],
        [
         "Table",
         "mock_sales_data",
         ""
        ],
        [
         "Created Time",
         "Mon May 19 00:11:34 UTC 2025",
         ""
        ],
        [
         "Last Access",
         "UNKNOWN",
         ""
        ],
        [
         "Created By",
         "Spark ",
         ""
        ],
        [
         "Type",
         "MANAGED",
         ""
        ],
        [
         "Comment",
         "The mock_sales_data table contains information about sales transactions, including details such as transaction date, customer ID, product sold, quantity, sale amount, payment method, and store location. This data is crucial for analyzing sales performance, customer behavior, and product popularity. It helps the business track revenue, identify trends, and make informed decisions regarding inventory management and marketing strategies.",
         ""
        ],
        [
         "Location",
         "abfss://unity-catalog-storage@dbstoragerdkhytpq2g2hm.dfs.core.windows.net/2251643177643270/__unitystorage/catalogs/80582810-3d29-455a-9122-955cb619197f/tables/c7714bf6-b247-49b2-85e1-96ba32358831",
         ""
        ],
        [
         "Provider",
         "delta",
         ""
        ],
        [
         "Owner",
         "henocksjean@gmail.com",
         ""
        ],
        [
         "Is_managed_location",
         "true",
         ""
        ],
        [
         "Predictive Optimization",
         "ENABLE (inherited from METASTORE metastore_azure_eastus)",
         ""
        ],
        [
         "Table Properties",
         "[delta.checkpoint.writeStatsAsJson=false,delta.checkpoint.writeStatsAsStruct=true,delta.enableDeletionVectors=true,delta.feature.appendOnly=supported,delta.feature.deletionVectors=supported,delta.feature.invariants=supported,delta.minReaderVersion=3,delta.minWriterVersion=7]",
         ""
        ]
       ],
       "datasetInfos": [
        {
         "name": "_sqldf",
         "schema": {
          "fields": [
           {
            "metadata": {},
            "name": "col_name",
            "nullable": false,
            "type": "string"
           },
           {
            "metadata": {},
            "name": "data_type",
            "nullable": false,
            "type": "string"
           },
           {
            "metadata": {},
            "name": "comment",
            "nullable": true,
            "type": "string"
           }
          ],
          "type": "struct"
         },
         "tableIdentifier": null,
         "typeStr": "pyspark.sql.connect.dataframe.DataFrame"
        }
       ],
       "dbfsResultPath": null,
       "isJsonSchema": true,
       "metadata": {
        "createTempViewForImplicitDf": true,
        "dataframeName": "_sqldf",
        "executionCount": 71
       },
       "overflow": false,
       "plotOptions": {
        "customPlotOptions": {},
        "displayType": "table",
        "pivotAggregation": null,
        "pivotColumns": null,
        "xColumns": null,
        "yColumns": null
       },
       "removedWidgets": [],
       "schema": [
        {
         "metadata": "{}",
         "name": "col_name",
         "type": "\"string\""
        },
        {
         "metadata": "{}",
         "name": "data_type",
         "type": "\"string\""
        },
        {
         "metadata": "{}",
         "name": "comment",
         "type": "\"string\""
        }
       ],
       "type": "table"
      }
     },
     "output_type": "display_data"
    }
   ],
   "source": [
    "%sql\n",
    "-- Display detailed schema and metadata for the mock_sales_data table\n",
    "%sql\n",
    "DESCRIBE EXTENDED bricks_space.default.mock_sales_data;\n"
   ]
  },
  {
   "cell_type": "markdown",
   "metadata": {
    "application/vnd.databricks.v1+cell": {
     "cellMetadata": {},
     "inputWidgets": {},
     "nuid": "6eb7b4c3-f27f-421d-8d68-bef06ac1b1f0",
     "showTitle": false,
     "tableResultSettingsMap": {},
     "title": ""
    }
   },
   "source": [
    "Action 3.3: Basic DataFrame Exploration"
   ]
  },
  {
   "cell_type": "markdown",
   "metadata": {
    "application/vnd.databricks.v1+cell": {
     "cellMetadata": {},
     "inputWidgets": {},
     "nuid": "442717e4-9257-4af3-99b2-1b7e646f81bd",
     "showTitle": false,
     "tableResultSettingsMap": {},
     "title": ""
    }
   },
   "source": [
    "### Viewing the DataFrame Schema\n",
    "\n",
    "We use `printSchema()` to display the structure of the `sales_df` DataFrame. This shows each column name along with its data type and nullability. Understanding the schema is essential before performing any_\n"
   ]
  },
  {
   "cell_type": "code",
   "execution_count": 0,
   "metadata": {
    "application/vnd.databricks.v1+cell": {
     "cellMetadata": {
      "byteLimit": 2048000,
      "rowLimit": 10000
     },
     "inputWidgets": {},
     "nuid": "d7da7f4d-115c-44d6-9ed6-1f7fb89b31af",
     "showTitle": false,
     "tableResultSettingsMap": {},
     "title": ""
    }
   },
   "outputs": [
    {
     "output_type": "stream",
     "name": "stdout",
     "output_type": "stream",
     "text": [
      "root\n |-- TransactionID: string (nullable = true)\n |-- TransactionDate: timestamp (nullable = true)\n |-- CustomerID: string (nullable = true)\n |-- Product: string (nullable = true)\n |-- ProductCategory: string (nullable = true)\n |-- Quantity: long (nullable = true)\n |-- SaleAmount: double (nullable = true)\n |-- PaymentMethod: string (nullable = true)\n |-- StoreLocation: string (nullable = true)\n\n"
     ]
    }
   ],
   "source": [
    "# Display the schema of the sales DataFrame to understand column names, data types, and nullability\n",
    "sales_df.printSchema()"
   ]
  },
  {
   "cell_type": "markdown",
   "metadata": {
    "application/vnd.databricks.v1+cell": {
     "cellMetadata": {},
     "inputWidgets": {},
     "nuid": "03d49cab-1420-4c08-9fda-df810d50e675",
     "showTitle": false,
     "tableResultSettingsMap": {},
     "title": ""
    }
   },
   "source": [
    "### Counting Records\n",
    "\n",
    "We use `.count()` to determine the total number of records (rows) in the `sales_df` DataFrame. This helps assess the size of the dataset we're working with.\n"
   ]
  },
  {
   "cell_type": "code",
   "execution_count": 0,
   "metadata": {
    "application/vnd.databricks.v1+cell": {
     "cellMetadata": {
      "byteLimit": 2048000,
      "rowLimit": 10000
     },
     "inputWidgets": {},
     "nuid": "46405b2f-3444-4060-b835-edf6cbc4e730",
     "showTitle": false,
     "tableResultSettingsMap": {},
     "title": ""
    }
   },
   "outputs": [
    {
     "output_type": "execute_result",
     "data": {
      "text/plain": [
       "20"
      ]
     },
     "execution_count": 80,
     "metadata": {},
     "output_type": "execute_result"
    }
   ],
   "source": [
    "# Count the total number of rows in the DataFrame\n",
    "sales_df.count()"
   ]
  },
  {
   "cell_type": "markdown",
   "metadata": {
    "application/vnd.databricks.v1+cell": {
     "cellMetadata": {},
     "inputWidgets": {},
     "nuid": "9b549817-e457-465c-a707-42dadb7a7f53",
     "showTitle": false,
     "tableResultSettingsMap": {},
     "title": ""
    }
   },
   "source": [
    "### Viewing the First 5 Records (Python List Format)\n",
    "\n",
    "Using `.head(5)` returns the first 5 rows of the DataFrame as a list of Row objects. This is useful for quickly inspecting the raw data in Python without the formatting of `.show()`.\n"
   ]
  },
  {
   "cell_type": "code",
   "execution_count": 0,
   "metadata": {
    "application/vnd.databricks.v1+cell": {
     "cellMetadata": {
      "byteLimit": 2048000,
      "rowLimit": 10000
     },
     "inputWidgets": {},
     "nuid": "f405c02c-8e08-48f6-88f7-b2d2f397a093",
     "showTitle": false,
     "tableResultSettingsMap": {},
     "title": ""
    }
   },
   "outputs": [
    {
     "output_type": "execute_result",
     "data": {
      "text/plain": [
       "[Row(TransactionID='TID001', TransactionDate=datetime.datetime(2023, 1, 15, 10, 30), CustomerID='CUST085', Product='Laptop Pro', ProductCategory='Electronics', Quantity=1, SaleAmount=1200.0, PaymentMethod='Credit Card', StoreLocation='Online'),\n",
       " Row(TransactionID='TID002', TransactionDate=datetime.datetime(2023, 1, 15, 11, 5), CustomerID='CUST102', Product='Wireless Mouse', ProductCategory='Electronics', Quantity=2, SaleAmount=50.0, PaymentMethod='PayPal', StoreLocation='Online'),\n",
       " Row(TransactionID='TID003', TransactionDate=datetime.datetime(2023, 1, 16, 14, 20), CustomerID='CUST085', Product='Office Chair', ProductCategory='Furniture', Quantity=1, SaleAmount=150.0, PaymentMethod='Credit Card', StoreLocation='Online'),\n",
       " Row(TransactionID='TID004', TransactionDate=datetime.datetime(2023, 1, 17, 9, 0), CustomerID='CUST210', Product='Coffee Maker', ProductCategory='Appliances', Quantity=1, SaleAmount=75.5, PaymentMethod='Debit Card', StoreLocation='New York'),\n",
       " Row(TransactionID='TID005', TransactionDate=datetime.datetime(2023, 1, 17, 16, 45), CustomerID='CUST102', Product='Book \"Data Science Intro\"', ProductCategory='Books', Quantity=3, SaleAmount=90.0, PaymentMethod='PayPal', StoreLocation='Online')]"
      ]
     },
     "execution_count": 81,
     "metadata": {},
     "output_type": "execute_result"
    }
   ],
   "source": [
    "# Display the first 5 rows of the DataFrame as a list of Row objects\n",
    "sales_df.head(5)"
   ]
  },
  {
   "cell_type": "markdown",
   "metadata": {
    "application/vnd.databricks.v1+cell": {
     "cellMetadata": {},
     "inputWidgets": {},
     "nuid": "9e7c55db-bc63-4848-a7a9-55804ef7ecc9",
     "showTitle": false,
     "tableResultSettingsMap": {},
     "title": ""
    }
   },
   "source": [
    "### Previewing the First 5 Records with `limit()` and `show()`\n",
    "\n",
    "We use `.limit(5)` to restrict the DataFrame to the first 5 rows, and `.show()` to display them in a neatly formatted table. This is useful for getting a quick visual sense of the\n"
   ]
  },
  {
   "cell_type": "code",
   "execution_count": 0,
   "metadata": {
    "application/vnd.databricks.v1+cell": {
     "cellMetadata": {
      "byteLimit": 2048000,
      "rowLimit": 10000
     },
     "inputWidgets": {},
     "nuid": "f40119a2-3e55-445c-a777-76b2d571b326",
     "showTitle": false,
     "tableResultSettingsMap": {},
     "title": ""
    }
   },
   "outputs": [
    {
     "output_type": "stream",
     "name": "stdout",
     "output_type": "stream",
     "text": [
      "+-------------+-------------------+----------+--------------------+---------------+--------+----------+-------------+-------------+\n|TransactionID|    TransactionDate|CustomerID|             Product|ProductCategory|Quantity|SaleAmount|PaymentMethod|StoreLocation|\n+-------------+-------------------+----------+--------------------+---------------+--------+----------+-------------+-------------+\n|       TID001|2023-01-15 10:30:00|   CUST085|          Laptop Pro|    Electronics|       1|    1200.0|  Credit Card|       Online|\n|       TID002|2023-01-15 11:05:00|   CUST102|      Wireless Mouse|    Electronics|       2|      50.0|       PayPal|       Online|\n|       TID003|2023-01-16 14:20:00|   CUST085|        Office Chair|      Furniture|       1|     150.0|  Credit Card|       Online|\n|       TID004|2023-01-17 09:00:00|   CUST210|        Coffee Maker|     Appliances|       1|      75.5|   Debit Card|     New York|\n|       TID005|2023-01-17 16:45:00|   CUST102|Book \"Data Scienc...|          Books|       3|      90.0|       PayPal|       Online|\n+-------------+-------------------+----------+--------------------+---------------+--------+----------+-------------+-------------+\n\n"
     ]
    }
   ],
   "source": [
    "# Display the first 5 rows of the DataFrame in a tabular format\n",
    "sales_df.limit(5).show()"
   ]
  },
  {
   "cell_type": "markdown",
   "metadata": {
    "application/vnd.databricks.v1+cell": {
     "cellMetadata": {},
     "inputWidgets": {},
     "nuid": "f8c3fcc2-50bb-4743-9c18-12c8843006ff",
     "showTitle": false,
     "tableResultSettingsMap": {},
     "title": ""
    }
   },
   "source": [
    "### Generating Summary Statistics with `describe()`\n",
    "\n",
    "The `.describe()` method provides basic statistical summaries for all numeric columns in the DataFrame—such as count, mean, standard deviation, min, and max. Using `.show()` displays the result in a readable tabular format\n"
   ]
  },
  {
   "cell_type": "code",
   "execution_count": 0,
   "metadata": {
    "application/vnd.databricks.v1+cell": {
     "cellMetadata": {
      "byteLimit": 2048000,
      "rowLimit": 10000
     },
     "inputWidgets": {},
     "nuid": "bc5f65ca-c528-4e51-955b-f2b995e4c9e9",
     "showTitle": false,
     "tableResultSettingsMap": {},
     "title": ""
    }
   },
   "outputs": [
    {
     "output_type": "stream",
     "name": "stdout",
     "output_type": "stream",
     "text": [
      "+-------+-------------+----------+--------------+---------------+------------------+------------------+-------------+-------------+\n|summary|TransactionID|CustomerID|       Product|ProductCategory|          Quantity|        SaleAmount|PaymentMethod|StoreLocation|\n+-------+-------------+----------+--------------+---------------+------------------+------------------+-------------+-------------+\n|  count|           20|        20|            20|             20|                20|                20|           18|           20|\n|   mean|         NULL|      NULL|          NULL|           NULL|               1.2|205.56199999999998|         NULL|         NULL|\n| stddev|         NULL|      NULL|          NULL|           NULL|0.5231483637805969| 288.4303341700967|         NULL|         NULL|\n|    min|       TID001|   CUST007|     Air Fryer|     Appliances|                 1|              30.0|  Credit Card|     New York|\n|    max|       TID020|   CUST450|Wireless Mouse|      Furniture|                 3|            1200.0|       PayPal|       Online|\n+-------+-------------+----------+--------------+---------------+------------------+------------------+-------------+-------------+\n\n"
     ]
    }
   ],
   "source": [
    "# Generate and display summary statistics for numeric columns\n",
    "sales_df.describe().show()"
   ]
  },
  {
   "cell_type": "markdown",
   "metadata": {
    "application/vnd.databricks.v1+cell": {
     "cellMetadata": {},
     "inputWidgets": {},
     "nuid": "6d71bce1-a9fb-4c77-9974-ced898c401c9",
     "showTitle": false,
     "tableResultSettingsMap": {},
     "title": ""
    }
   },
   "source": [
    "### Preview Selected Columns\n",
    "\n",
    "To get a focused view of specific columns, we use the `.select()` method. Here, we retrieve only the `TransactionID`, `Product`, and `SaleAmount` columns. This is helpful for a quick glance at important transactional details without the clutter of all other fields\n"
   ]
  },
  {
   "cell_type": "code",
   "execution_count": 0,
   "metadata": {
    "application/vnd.databricks.v1+cell": {
     "cellMetadata": {
      "byteLimit": 2048000,
      "rowLimit": 10000
     },
     "inputWidgets": {},
     "nuid": "cb5fae29-34ad-4885-982d-b5539576956c",
     "showTitle": false,
     "tableResultSettingsMap": {},
     "title": ""
    }
   },
   "outputs": [
    {
     "output_type": "stream",
     "name": "stdout",
     "output_type": "stream",
     "text": [
      "+-------------+--------------------+----------+\n|TransactionID|             Product|SaleAmount|\n+-------------+--------------------+----------+\n|       TID001|          Laptop Pro|    1200.0|\n|       TID002|      Wireless Mouse|      50.0|\n|       TID003|        Office Chair|     150.0|\n|       TID004|        Coffee Maker|      75.5|\n|       TID005|Book \"Data Scienc...|      90.0|\n+-------------+--------------------+----------+\nonly showing top 5 rows\n"
     ]
    }
   ],
   "source": [
    "# Display the first 5 rows with only TransactionID, Product, and SaleAmount columns\n",
    "sales_df.select(\"TransactionID\", \"Product\", \"SaleAmount\").show(5)"
   ]
  },
  {
   "cell_type": "markdown",
   "metadata": {
    "application/vnd.databricks.v1+cell": {
     "cellMetadata": {},
     "inputWidgets": {},
     "nuid": "dfb6fa1d-363b-4d6b-a041-a341c860f9ff",
     "showTitle": false,
     "tableResultSettingsMap": {},
     "title": ""
    }
   },
   "source": [
    "Task 4: Basic Data Transformation & Cleansing with Spark SQL & PySpark (Est. 10 hours)\n",
    "Objective: Perform basic data transformations and cleansing operations on the sales DataFrame.\n",
    "\n"
   ]
  },
  {
   "cell_type": "markdown",
   "metadata": {
    "application/vnd.databricks.v1+cell": {
     "cellMetadata": {},
     "inputWidgets": {},
     "nuid": "d8600759-fbbf-4564-bfef-57adaf4c5bc0",
     "showTitle": false,
     "tableResultSettingsMap": {},
     "title": ""
    }
   },
   "source": [
    "Action 4.1: Using Spark SQL for Exploration\n",
    "\n",
    "To use Spark SQL directly on your DataFrame, you first need to create a temporary view.\n",
    "##### Create a temporary view from the DataFrame"
   ]
  },
  {
   "cell_type": "markdown",
   "metadata": {
    "application/vnd.databricks.v1+cell": {
     "cellMetadata": {},
     "inputWidgets": {},
     "nuid": "666deed9-c0b0-4875-b752-83916b5890f4",
     "showTitle": false,
     "tableResultSettingsMap": {},
     "title": ""
    }
   },
   "source": [
    "### Create Temporary SQL View\n",
    "\n",
    "To use Spark SQL queries on the DataFrame, we first register it as a temporary view. This enables us to run SQL syntax directly on our DataFrame using the `%sql` magic command or `spark.sql()` in PySpark.\n",
    "\n",
    "The view will only exist during the current session.\n"
   ]
  },
  {
   "cell_type": "code",
   "execution_count": 0,
   "metadata": {
    "application/vnd.databricks.v1+cell": {
     "cellMetadata": {
      "byteLimit": 2048000,
      "rowLimit": 10000
     },
     "inputWidgets": {},
     "nuid": "e62f1a4c-60ec-4c17-bfc8-843fb3541236",
     "showTitle": false,
     "tableResultSettingsMap": {},
     "title": ""
    }
   },
   "outputs": [],
   "source": [
    "# Register the DataFrame as a temporary SQL view for querying with Spark SQL\n",
    "sales_df.createOrReplaceTempView(\"sales_data_view\")"
   ]
  },
  {
   "cell_type": "markdown",
   "metadata": {
    "application/vnd.databricks.v1+cell": {
     "cellMetadata": {},
     "inputWidgets": {},
     "nuid": "6693da49-0b43-467e-8404-c2b919f3e94d",
     "showTitle": false,
     "tableResultSettingsMap": {},
     "title": ""
    }
   },
   "source": [
    "### Querying the Temporary View\n",
    "\n",
    "This SQL query retrieves the first 10 rows from the temporary view `sales_data_view` we created from our sales DataFrame. \n",
    "\n",
    "This helps us quickly inspect a sample of the dataset using familiar SQL syntax.\n"
   ]
  },
  {
   "cell_type": "code",
   "execution_count": 0,
   "metadata": {
    "application/vnd.databricks.v1+cell": {
     "cellMetadata": {
      "byteLimit": 2048000,
      "implicitDf": true,
      "rowLimit": 10000
     },
     "inputWidgets": {},
     "nuid": "2810dbdb-0d7d-4e0e-bb10-2a44e5ba97bc",
     "showTitle": false,
     "tableResultSettingsMap": {},
     "title": ""
    }
   },
   "outputs": [
    {
     "output_type": "display_data",
     "data": {
      "text/html": [
       "<style scoped>\n",
       "  .table-result-container {\n",
       "    max-height: 300px;\n",
       "    overflow: auto;\n",
       "  }\n",
       "  table, th, td {\n",
       "    border: 1px solid black;\n",
       "    border-collapse: collapse;\n",
       "  }\n",
       "  th, td {\n",
       "    padding: 5px;\n",
       "  }\n",
       "  th {\n",
       "    text-align: left;\n",
       "  }\n",
       "</style><div class='table-result-container'><table class='table-result'><thead style='background-color: white'><tr><th>TransactionID</th><th>TransactionDate</th><th>CustomerID</th><th>Product</th><th>ProductCategory</th><th>Quantity</th><th>SaleAmount</th><th>PaymentMethod</th><th>StoreLocation</th></tr></thead><tbody><tr><td>TID001</td><td>2023-01-15T10:30:00.000Z</td><td>CUST085</td><td>Laptop Pro</td><td>Electronics</td><td>1</td><td>1200.0</td><td>Credit Card</td><td>Online</td></tr><tr><td>TID002</td><td>2023-01-15T11:05:00.000Z</td><td>CUST102</td><td>Wireless Mouse</td><td>Electronics</td><td>2</td><td>50.0</td><td>PayPal</td><td>Online</td></tr><tr><td>TID003</td><td>2023-01-16T14:20:00.000Z</td><td>CUST085</td><td>Office Chair</td><td>Furniture</td><td>1</td><td>150.0</td><td>Credit Card</td><td>Online</td></tr><tr><td>TID004</td><td>2023-01-17T09:00:00.000Z</td><td>CUST210</td><td>Coffee Maker</td><td>Appliances</td><td>1</td><td>75.5</td><td>Debit Card</td><td>New York</td></tr><tr><td>TID005</td><td>2023-01-17T16:45:00.000Z</td><td>CUST102</td><td>Book \"Data Science Intro\"</td><td>Books</td><td>3</td><td>90.0</td><td>PayPal</td><td>Online</td></tr><tr><td>TID006</td><td>2023-01-18T10:00:00.000Z</td><td>CUST301</td><td>Smartphone X</td><td>Electronics</td><td>1</td><td>800.0</td><td>null</td><td>Online</td></tr><tr><td>TID007</td><td>2023-01-19T12:12:00.000Z</td><td>CUST007</td><td>External Hard Drive</td><td>Electronics</td><td>1</td><td>120.0</td><td>Credit Card</td><td>Online</td></tr><tr><td>TID008</td><td>2023-01-20T13:15:00.000Z</td><td>CUST085</td><td>Desk Lamp</td><td>Furniture</td><td>1</td><td>45.0</td><td>Credit Card</td><td>Online</td></tr><tr><td>TID009</td><td>2023-01-21T10:05:00.000Z</td><td>CUST210</td><td>Toaster</td><td>Appliances</td><td>1</td><td>30.0</td><td>Debit Card</td><td>New York</td></tr><tr><td>TID010</td><td>2023-01-22T11:30:00.000Z</td><td>CUST102</td><td>Book \"Advanced Python\"</td><td>Books</td><td>1</td><td>55.0</td><td>PayPal</td><td>Online</td></tr></tbody></table></div>"
      ]
     },
     "metadata": {
      "application/vnd.databricks.v1+output": {
       "addedWidgets": {},
       "aggData": [],
       "aggError": "",
       "aggOverflow": false,
       "aggSchema": [],
       "aggSeriesLimitReached": false,
       "aggType": "",
       "arguments": {},
       "columnCustomDisplayInfos": {},
       "data": [
        [
         "TID001",
         "2023-01-15T10:30:00.000Z",
         "CUST085",
         "Laptop Pro",
         "Electronics",
         1,
         1200.0,
         "Credit Card",
         "Online"
        ],
        [
         "TID002",
         "2023-01-15T11:05:00.000Z",
         "CUST102",
         "Wireless Mouse",
         "Electronics",
         2,
         50.0,
         "PayPal",
         "Online"
        ],
        [
         "TID003",
         "2023-01-16T14:20:00.000Z",
         "CUST085",
         "Office Chair",
         "Furniture",
         1,
         150.0,
         "Credit Card",
         "Online"
        ],
        [
         "TID004",
         "2023-01-17T09:00:00.000Z",
         "CUST210",
         "Coffee Maker",
         "Appliances",
         1,
         75.5,
         "Debit Card",
         "New York"
        ],
        [
         "TID005",
         "2023-01-17T16:45:00.000Z",
         "CUST102",
         "Book \"Data Science Intro\"",
         "Books",
         3,
         90.0,
         "PayPal",
         "Online"
        ],
        [
         "TID006",
         "2023-01-18T10:00:00.000Z",
         "CUST301",
         "Smartphone X",
         "Electronics",
         1,
         800.0,
         null,
         "Online"
        ],
        [
         "TID007",
         "2023-01-19T12:12:00.000Z",
         "CUST007",
         "External Hard Drive",
         "Electronics",
         1,
         120.0,
         "Credit Card",
         "Online"
        ],
        [
         "TID008",
         "2023-01-20T13:15:00.000Z",
         "CUST085",
         "Desk Lamp",
         "Furniture",
         1,
         45.0,
         "Credit Card",
         "Online"
        ],
        [
         "TID009",
         "2023-01-21T10:05:00.000Z",
         "CUST210",
         "Toaster",
         "Appliances",
         1,
         30.0,
         "Debit Card",
         "New York"
        ],
        [
         "TID010",
         "2023-01-22T11:30:00.000Z",
         "CUST102",
         "Book \"Advanced Python\"",
         "Books",
         1,
         55.0,
         "PayPal",
         "Online"
        ]
       ],
       "datasetInfos": [
        {
         "name": "_sqldf",
         "schema": {
          "fields": [
           {
            "metadata": {},
            "name": "TransactionID",
            "nullable": true,
            "type": "string"
           },
           {
            "metadata": {},
            "name": "TransactionDate",
            "nullable": true,
            "type": "timestamp"
           },
           {
            "metadata": {},
            "name": "CustomerID",
            "nullable": true,
            "type": "string"
           },
           {
            "metadata": {},
            "name": "Product",
            "nullable": true,
            "type": "string"
           },
           {
            "metadata": {},
            "name": "ProductCategory",
            "nullable": true,
            "type": "string"
           },
           {
            "metadata": {},
            "name": "Quantity",
            "nullable": true,
            "type": "long"
           },
           {
            "metadata": {},
            "name": "SaleAmount",
            "nullable": true,
            "type": "double"
           },
           {
            "metadata": {},
            "name": "PaymentMethod",
            "nullable": true,
            "type": "string"
           },
           {
            "metadata": {},
            "name": "StoreLocation",
            "nullable": true,
            "type": "string"
           }
          ],
          "type": "struct"
         },
         "tableIdentifier": null,
         "typeStr": "pyspark.sql.connect.dataframe.DataFrame"
        }
       ],
       "dbfsResultPath": null,
       "isJsonSchema": true,
       "metadata": {
        "createTempViewForImplicitDf": true,
        "dataframeName": "_sqldf",
        "executionCount": 95
       },
       "overflow": false,
       "plotOptions": {
        "customPlotOptions": {},
        "displayType": "table",
        "pivotAggregation": null,
        "pivotColumns": null,
        "xColumns": null,
        "yColumns": null
       },
       "removedWidgets": [],
       "schema": [
        {
         "metadata": "{}",
         "name": "TransactionID",
         "type": "\"string\""
        },
        {
         "metadata": "{}",
         "name": "TransactionDate",
         "type": "\"timestamp\""
        },
        {
         "metadata": "{}",
         "name": "CustomerID",
         "type": "\"string\""
        },
        {
         "metadata": "{}",
         "name": "Product",
         "type": "\"string\""
        },
        {
         "metadata": "{}",
         "name": "ProductCategory",
         "type": "\"string\""
        },
        {
         "metadata": "{}",
         "name": "Quantity",
         "type": "\"long\""
        },
        {
         "metadata": "{}",
         "name": "SaleAmount",
         "type": "\"double\""
        },
        {
         "metadata": "{}",
         "name": "PaymentMethod",
         "type": "\"string\""
        },
        {
         "metadata": "{}",
         "name": "StoreLocation",
         "type": "\"string\""
        }
       ],
       "type": "table"
      }
     },
     "output_type": "display_data"
    }
   ],
   "source": [
    "%sql\n",
    "-- Select the first 10 rows from the sales_data_view temporary view\n",
    "SELECT * FROM sales_data_view LIMIT 10;"
   ]
  },
  {
   "cell_type": "markdown",
   "metadata": {
    "application/vnd.databricks.v1+cell": {
     "cellMetadata": {},
     "inputWidgets": {},
     "nuid": "719d3105-7ec6-44db-bd54-148c0789e1c0",
     "showTitle": false,
     "tableResultSettingsMap": {},
     "title": ""
    }
   },
   "source": [
    "### Total Sales by Product\n",
    "\n",
    "This SQL query calculates the total sales amount for each product by summing the `SaleAmount` grouped by `Product`. \n",
    "\n",
    "The results are ordered in descending order of `TotalSales` so we can easily identify the top-selling products.\n"
   ]
  },
  {
   "cell_type": "code",
   "execution_count": 0,
   "metadata": {
    "application/vnd.databricks.v1+cell": {
     "cellMetadata": {
      "byteLimit": 2048000,
      "implicitDf": true,
      "rowLimit": 10000
     },
     "inputWidgets": {},
     "nuid": "b6c1665a-d8d5-4eb0-87b7-04d7f1867a30",
     "showTitle": false,
     "tableResultSettingsMap": {},
     "title": ""
    }
   },
   "outputs": [
    {
     "output_type": "display_data",
     "data": {
      "text/html": [
       "<style scoped>\n",
       "  .table-result-container {\n",
       "    max-height: 300px;\n",
       "    overflow: auto;\n",
       "  }\n",
       "  table, th, td {\n",
       "    border: 1px solid black;\n",
       "    border-collapse: collapse;\n",
       "  }\n",
       "  th, td {\n",
       "    padding: 5px;\n",
       "  }\n",
       "  th {\n",
       "    text-align: left;\n",
       "  }\n",
       "</style><div class='table-result-container'><table class='table-result'><thead style='background-color: white'><tr><th>Product</th><th>TotalSales</th></tr></thead><tbody><tr><td>Laptop Pro</td><td>1200.0</td></tr><tr><td>Smartphone X</td><td>800.0</td></tr><tr><td>Monitor</td><td>300.0</td></tr><tr><td>Smart Watch</td><td>250.0</td></tr><tr><td>Bookshelf</td><td>220.0</td></tr><tr><td>Filing Cabinet</td><td>180.0</td></tr><tr><td>Office Chair</td><td>150.0</td></tr><tr><td>Gaming Keyboard</td><td>130.0</td></tr><tr><td>External Hard Drive</td><td>120.0</td></tr><tr><td>Air Fryer</td><td>110.0</td></tr><tr><td>Headphones</td><td>99.99</td></tr><tr><td>Book \"Data Science Intro\"</td><td>90.0</td></tr><tr><td>Book \"Learning Spark\"</td><td>80.0</td></tr><tr><td>Coffee Maker</td><td>75.5</td></tr><tr><td>Ergonomic Mouse</td><td>65.0</td></tr><tr><td>Blender</td><td>60.75</td></tr><tr><td>Book \"Advanced Python\"</td><td>55.0</td></tr><tr><td>Wireless Mouse</td><td>50.0</td></tr><tr><td>Desk Lamp</td><td>45.0</td></tr><tr><td>Toaster</td><td>30.0</td></tr></tbody></table></div>"
      ]
     },
     "metadata": {
      "application/vnd.databricks.v1+output": {
       "addedWidgets": {},
       "aggData": [],
       "aggError": "",
       "aggOverflow": false,
       "aggSchema": [],
       "aggSeriesLimitReached": false,
       "aggType": "",
       "arguments": {},
       "columnCustomDisplayInfos": {},
       "data": [
        [
         "Laptop Pro",
         1200.0
        ],
        [
         "Smartphone X",
         800.0
        ],
        [
         "Monitor",
         300.0
        ],
        [
         "Smart Watch",
         250.0
        ],
        [
         "Bookshelf",
         220.0
        ],
        [
         "Filing Cabinet",
         180.0
        ],
        [
         "Office Chair",
         150.0
        ],
        [
         "Gaming Keyboard",
         130.0
        ],
        [
         "External Hard Drive",
         120.0
        ],
        [
         "Air Fryer",
         110.0
        ],
        [
         "Headphones",
         99.99
        ],
        [
         "Book \"Data Science Intro\"",
         90.0
        ],
        [
         "Book \"Learning Spark\"",
         80.0
        ],
        [
         "Coffee Maker",
         75.5
        ],
        [
         "Ergonomic Mouse",
         65.0
        ],
        [
         "Blender",
         60.75
        ],
        [
         "Book \"Advanced Python\"",
         55.0
        ],
        [
         "Wireless Mouse",
         50.0
        ],
        [
         "Desk Lamp",
         45.0
        ],
        [
         "Toaster",
         30.0
        ]
       ],
       "datasetInfos": [
        {
         "name": "_sqldf",
         "schema": {
          "fields": [
           {
            "metadata": {},
            "name": "Product",
            "nullable": true,
            "type": "string"
           },
           {
            "metadata": {},
            "name": "TotalSales",
            "nullable": true,
            "type": "double"
           }
          ],
          "type": "struct"
         },
         "tableIdentifier": null,
         "typeStr": "pyspark.sql.connect.dataframe.DataFrame"
        }
       ],
       "dbfsResultPath": null,
       "isJsonSchema": true,
       "metadata": {
        "createTempViewForImplicitDf": true,
        "dataframeName": "_sqldf",
        "executionCount": 96
       },
       "overflow": false,
       "plotOptions": {
        "customPlotOptions": {},
        "displayType": "table",
        "pivotAggregation": null,
        "pivotColumns": null,
        "xColumns": null,
        "yColumns": null
       },
       "removedWidgets": [],
       "schema": [
        {
         "metadata": "{}",
         "name": "Product",
         "type": "\"string\""
        },
        {
         "metadata": "{}",
         "name": "TotalSales",
         "type": "\"double\""
        }
       ],
       "type": "table"
      }
     },
     "output_type": "display_data"
    }
   ],
   "source": [
    "%sql\n",
    "-- Calculate total sales amount per product, ordered by highest sales first\n",
    "SELECT Product, SUM(SaleAmount) as TotalSales\n",
    "FROM sales_data_view\n",
    "GROUP BY Product\n",
    "ORDER BY TotalSales DESC;\n"
   ]
  },
  {
   "cell_type": "markdown",
   "metadata": {
    "application/vnd.databricks.v1+cell": {
     "cellMetadata": {},
     "inputWidgets": {},
     "nuid": "8e01cd82-4e15-4423-98bb-bb6889489516",
     "showTitle": false,
     "tableResultSettingsMap": {},
     "title": ""
    }
   },
   "source": [
    "Action 4.2: Data Type Conversion (PySpark)"
   ]
  },
  {
   "cell_type": "markdown",
   "metadata": {
    "application/vnd.databricks.v1+cell": {
     "cellMetadata": {},
     "inputWidgets": {},
     "nuid": "09390978-53ce-4780-956a-3425b90df127",
     "showTitle": false,
     "tableResultSettingsMap": {},
     "title": ""
    }
   },
   "source": [
    "### Convert TransactionDate to Timestamp\n",
    "\n",
    "This code converts the `TransactionDate` column from a string to a proper timestamp format using the `to_timestamp` function.\n",
    "\n",
    "- Assumes `TransactionDate` is in the format `'yyyy-MM-dd HH:mm:ss'`.\n",
    "- Creates a new column `TransactionTimestamp` with the converted timestamp.\n",
    "- Prints the updated schema to verify the new column type.\n",
    "- Displays the first 5 rows to compare original and converted date values.\n"
   ]
  },
  {
   "cell_type": "code",
   "execution_count": 0,
   "metadata": {
    "application/vnd.databricks.v1+cell": {
     "cellMetadata": {
      "byteLimit": 2048000,
      "rowLimit": 10000
     },
     "inputWidgets": {},
     "nuid": "d051613b-8c98-4d78-bfa6-edf855ddf4ac",
     "showTitle": false,
     "tableResultSettingsMap": {},
     "title": ""
    }
   },
   "outputs": [
    {
     "output_type": "stream",
     "name": "stdout",
     "output_type": "stream",
     "text": [
      "root\n |-- TransactionID: string (nullable = true)\n |-- TransactionDate: timestamp (nullable = true)\n |-- CustomerID: string (nullable = true)\n |-- Product: string (nullable = true)\n |-- ProductCategory: string (nullable = true)\n |-- Quantity: long (nullable = true)\n |-- SaleAmount: double (nullable = true)\n |-- PaymentMethod: string (nullable = true)\n |-- StoreLocation: string (nullable = true)\n |-- TransactionTimestamp: timestamp (nullable = true)\n\n+-------------+-------------------+--------------------+\n|TransactionID|TransactionDate    |TransactionTimestamp|\n+-------------+-------------------+--------------------+\n|TID001       |2023-01-15 10:30:00|2023-01-15 10:30:00 |\n|TID002       |2023-01-15 11:05:00|2023-01-15 11:05:00 |\n|TID003       |2023-01-16 14:20:00|2023-01-16 14:20:00 |\n|TID004       |2023-01-17 09:00:00|2023-01-17 09:00:00 |\n|TID005       |2023-01-17 16:45:00|2023-01-17 16:45:00 |\n+-------------+-------------------+--------------------+\nonly showing top 5 rows\n"
     ]
    }
   ],
   "source": [
    "from pyspark.sql.functions import col, to_timestamp\n",
    "\n",
    "# Convert the 'TransactionDate' string to a timestamp using the specified format\n",
    "sales_df_transformed = sales_df.withColumn(\n",
    "    \"TransactionTimestamp\", \n",
    "    to_timestamp(col(\"TransactionDate\"), \"yyyy-MM-dd HH:mm:ss\")\n",
    ")\n",
    "\n",
    "# Show the schema to confirm that 'TransactionTimestamp' has been added with TimestampType\n",
    "sales_df_transformed.printSchema()\n",
    "\n",
    "# Display first 5 rows showing original and converted date columns side-by-side\n",
    "sales_df_transformed.select(\"TransactionID\", \"TransactionDate\", \"TransactionTimestamp\").show(5, truncate=False)\n"
   ]
  },
  {
   "cell_type": "markdown",
   "metadata": {
    "application/vnd.databricks.v1+cell": {
     "cellMetadata": {},
     "inputWidgets": {},
     "nuid": "bfc14efd-82f6-49ce-9b5b-331b7df3fb44",
     "showTitle": false,
     "tableResultSettingsMap": {},
     "title": ""
    }
   },
   "source": [
    "### Cast Columns to Appropriate Data Types\n",
    "\n",
    "- Convert the `SaleAmount` column to `DoubleType` to ensure it is treated as a numeric (decimal) value.\n",
    "- Convert the `Quantity` column to `IntegerType` to ensure it is treated as an integer.\n",
    "- Printing the schema confirms that the data types have been updated correctly.\n"
   ]
  },
  {
   "cell_type": "code",
   "execution_count": 0,
   "metadata": {
    "application/vnd.databricks.v1+cell": {
     "cellMetadata": {
      "byteLimit": 2048000,
      "rowLimit": 10000
     },
     "inputWidgets": {},
     "nuid": "27db6ceb-5804-493d-a802-58c9725f8745",
     "showTitle": false,
     "tableResultSettingsMap": {},
     "title": ""
    }
   },
   "outputs": [
    {
     "output_type": "stream",
     "name": "stdout",
     "output_type": "stream",
     "text": [
      "root\n |-- TransactionID: string (nullable = true)\n |-- TransactionDate: timestamp (nullable = true)\n |-- CustomerID: string (nullable = true)\n |-- Product: string (nullable = true)\n |-- ProductCategory: string (nullable = true)\n |-- Quantity: integer (nullable = true)\n |-- SaleAmount: double (nullable = true)\n |-- PaymentMethod: string (nullable = true)\n |-- StoreLocation: string (nullable = true)\n |-- TransactionTimestamp: timestamp (nullable = true)\n\n"
     ]
    }
   ],
   "source": [
    "from pyspark.sql.types import DoubleType, IntegerType\n",
    "\n",
    "# Cast 'SaleAmount' from string (if applicable) to Double (decimal number)\n",
    "sales_df_transformed = sales_df_transformed.withColumn(\"SaleAmount\", col(\"SaleAmount\").cast(DoubleType()))\n",
    "\n",
    "# Cast 'Quantity' from string (if applicable) to Integer\n",
    "sales_df_transformed = sales_df_transformed.withColumn(\"Quantity\", col(\"Quantity\").cast(IntegerType()))\n",
    "\n",
    "# Print schema to verify the updated data types for 'SaleAmount' and 'Quantity'\n",
    "sales_df_transformed.printSchema()\n"
   ]
  },
  {
   "cell_type": "markdown",
   "metadata": {
    "application/vnd.databricks.v1+cell": {
     "cellMetadata": {},
     "inputWidgets": {},
     "nuid": "3411e86a-c06a-4708-9e6e-f75cd9429247",
     "showTitle": false,
     "tableResultSettingsMap": {},
     "title": ""
    }
   },
   "source": [
    "### Handling Missing Values in the `PaymentMethod` Column\n",
    "\n",
    "- Replace any `null` or missing values in the `PaymentMethod` column with the string `\"Unknown\"`.\n",
    "- This ensures that subsequent analysis or grouping on `PaymentMethod` won't be affected by missing data.\n",
    "- Verify the replacement by filtering and displaying rows where `PaymentMethod` is `\"Unknown\"`.\n"
   ]
  },
  {
   "cell_type": "code",
   "execution_count": 0,
   "metadata": {
    "application/vnd.databricks.v1+cell": {
     "cellMetadata": {
      "byteLimit": 2048000,
      "rowLimit": 10000
     },
     "inputWidgets": {},
     "nuid": "46d4b20e-9bbc-4c1b-a5b1-19e343c3678d",
     "showTitle": false,
     "tableResultSettingsMap": {},
     "title": ""
    }
   },
   "outputs": [
    {
     "output_type": "stream",
     "name": "stdout",
     "output_type": "stream",
     "text": [
      "+-------------+-------------------+----------+------------+---------------+--------+----------+-------------+-------------+--------------------+\n|TransactionID|    TransactionDate|CustomerID|     Product|ProductCategory|Quantity|SaleAmount|PaymentMethod|StoreLocation|TransactionTimestamp|\n+-------------+-------------------+----------+------------+---------------+--------+----------+-------------+-------------+--------------------+\n|       TID006|2023-01-18 10:00:00|   CUST301|Smartphone X|    Electronics|       1|     800.0|      Unknown|       Online| 2023-01-18 10:00:00|\n|       TID012|2023-01-24 09:45:00|   CUST085|   Bookshelf|      Furniture|       1|     220.0|      Unknown|       Online| 2023-01-24 09:45:00|\n+-------------+-------------------+----------+------------+---------------+--------+----------+-------------+-------------+--------------------+\n\n"
     ]
    }
   ],
   "source": [
    "sales_df_transformed = sales_df_transformed.fillna({\"PaymentMethod\": \"Unknown\"})\n",
    "\n",
    "# Verify by showing rows where PaymentMethod might have been null\n",
    "\n",
    "# (We might need to adjust the filter if you know specific TransactionIDs had nulls)\n",
    "\n",
    "sales_df_transformed.filter(col(\"PaymentMethod\") == \"Unknown\").show()"
   ]
  },
  {
   "cell_type": "code",
   "execution_count": 0,
   "metadata": {
    "application/vnd.databricks.v1+cell": {
     "cellMetadata": {
      "byteLimit": 2048000,
      "rowLimit": 10000
     },
     "inputWidgets": {},
     "nuid": "6353ff3c-6851-4fc3-a997-a92d688cf0a3",
     "showTitle": false,
     "tableResultSettingsMap": {},
     "title": ""
    }
   },
   "outputs": [
    {
     "output_type": "execute_result",
     "data": {
      "text/plain": [
       "20"
      ]
     },
     "execution_count": 116,
     "metadata": {},
     "output_type": "execute_result"
    }
   ],
   "source": [
    "# Count the number of rows in the DataFrame after dropping any rows that contain null values in any column\n",
    "# This helps us understand how many complete (non-missing) records we have after cleaning\n",
    "sales_df_transformed.dropna().count()"
   ]
  },
  {
   "cell_type": "markdown",
   "metadata": {
    "application/vnd.databricks.v1+cell": {
     "cellMetadata": {},
     "inputWidgets": {},
     "nuid": "8b4c4baf-6038-4553-8e55-58bbfcce331f",
     "showTitle": false,
     "tableResultSettingsMap": {},
     "title": ""
    }
   },
   "source": [
    "Action 4.4: Creating New Columns (PySpark)\n",
    "\n"
   ]
  },
  {
   "cell_type": "code",
   "execution_count": 0,
   "metadata": {
    "application/vnd.databricks.v1+cell": {
     "cellMetadata": {
      "byteLimit": 2048000,
      "rowLimit": 10000
     },
     "inputWidgets": {},
     "nuid": "d8fce426-efee-4cc8-b1de-dc343bd7e4ca",
     "showTitle": false,
     "tableResultSettingsMap": {},
     "title": ""
    }
   },
   "outputs": [
    {
     "output_type": "stream",
     "name": "stdout",
     "output_type": "stream",
     "text": [
      "+--------------------+--------+----------+---------+\n|             Product|Quantity|SaleAmount|UnitPrice|\n+--------------------+--------+----------+---------+\n|          Laptop Pro|       1|    1200.0|   1200.0|\n|      Wireless Mouse|       2|      50.0|     25.0|\n|        Office Chair|       1|     150.0|    150.0|\n|        Coffee Maker|       1|      75.5|     75.5|\n|Book \"Data Scienc...|       3|      90.0|     30.0|\n+--------------------+--------+----------+---------+\nonly showing top 5 rows\n"
     ]
    }
   ],
   "source": [
    "from pyspark.sql.functions import round\n",
    "\n",
    "# Calculate the UnitPrice by dividing the total SaleAmount by the Quantity sold\n",
    "# Assuming Quantity is always greater than zero to avoid division by zero errors\n",
    "# Round the UnitPrice to 2 decimal places for better readability\n",
    "# Add the new UnitPrice column to the DataFrame\n",
    "\n",
    "sales_df_transformed = sales_df_transformed.withColumn(\"UnitPrice\", round(col(\"SaleAmount\") / col(\"Quantity\"), 2))\n",
    "\n",
    "# Display a sample of the products with their quantities, total sale amounts, and calculated unit prices\n",
    "sales_df_transformed.select(\"Product\", \"Quantity\", \"SaleAmount\", \"UnitPrice\").show(5)\n"
   ]
  },
  {
   "cell_type": "markdown",
   "metadata": {
    "application/vnd.databricks.v1+cell": {
     "cellMetadata": {},
     "inputWidgets": {},
     "nuid": "a9065712-0688-4840-a103-76ec5c4ed141",
     "showTitle": false,
     "tableResultSettingsMap": {},
     "title": ""
    }
   },
   "source": [
    "Action 4.5: Filtering and Ordering (PySpark)"
   ]
  },
  {
   "cell_type": "code",
   "execution_count": 0,
   "metadata": {
    "application/vnd.databricks.v1+cell": {
     "cellMetadata": {
      "byteLimit": 2048000,
      "rowLimit": 10000
     },
     "inputWidgets": {},
     "nuid": "0004a688-be67-4e0b-879d-6a077c2ada5b",
     "showTitle": false,
     "tableResultSettingsMap": {},
     "title": ""
    }
   },
   "outputs": [
    {
     "output_type": "stream",
     "name": "stdout",
     "output_type": "stream",
     "text": [
      "+-------------+-------------------+----------+--------------------+---------------+--------+----------+-------------+-------------+--------------------+---------+\n|TransactionID|    TransactionDate|CustomerID|             Product|ProductCategory|Quantity|SaleAmount|PaymentMethod|StoreLocation|TransactionTimestamp|UnitPrice|\n+-------------+-------------------+----------+--------------------+---------------+--------+----------+-------------+-------------+--------------------+---------+\n|       TID001|2023-01-15 10:30:00|   CUST085|          Laptop Pro|    Electronics|       1|    1200.0|  Credit Card|       Online| 2023-01-15 10:30:00|   1200.0|\n|       TID016|2023-01-28 14:30:00|   CUST007|             Monitor|    Electronics|       1|     300.0|  Credit Card|       Online| 2023-01-28 14:30:00|    300.0|\n|       TID018|2023-01-30 16:00:00|   CUST085|      Filing Cabinet|      Furniture|       1|     180.0|  Credit Card|       Online| 2023-01-30 16:00:00|    180.0|\n|       TID003|2023-01-16 14:20:00|   CUST085|        Office Chair|      Furniture|       1|     150.0|  Credit Card|       Online| 2023-01-16 14:20:00|    150.0|\n|       TID011|2023-01-23 15:00:00|   CUST450|     Gaming Keyboard|    Electronics|       1|     130.0|  Credit Card|       Online| 2023-01-23 15:00:00|    130.0|\n|       TID007|2023-01-19 12:12:00|   CUST007| External Hard Drive|    Electronics|       1|     120.0|  Credit Card|       Online| 2023-01-19 12:12:00|    120.0|\n|       TID020|2023-02-01 12:00:00|   CUST210|           Air Fryer|     Appliances|       1|     110.0|  Credit Card|     New York| 2023-02-01 12:00:00|    110.0|\n|       TID015|2023-01-27 11:50:00|   CUST102|Book \"Learning Sp...|          Books|       2|      80.0|  Credit Card|       Online| 2023-01-27 11:50:00|     40.0|\n|       TID008|2023-01-20 13:15:00|   CUST085|           Desk Lamp|      Furniture|       1|      45.0|  Credit Card|       Online| 2023-01-20 13:15:00|     45.0|\n+-------------+-------------------+----------+--------------------+---------------+--------+----------+-------------+-------------+--------------------+---------+\n\n"
     ]
    }
   ],
   "source": [
    "# Filter the sales data to include only transactions where the PaymentMethod is 'Credit Card'\n",
    "# Then sort these transactions in descending order by the SaleAmount to see the highest sales first\n",
    "# Display the top 10 credit card sales transactions\n",
    "\n",
    "credit_card_sales_df = sales_df_transformed.filter(col(\"PaymentMethod\") == \"Credit Card\").orderBy(col(\"SaleAmount\").desc())\n",
    "\n",
    "credit_card_sales_df.show(10)\n"
   ]
  },
  {
   "cell_type": "code",
   "execution_count": 0,
   "metadata": {
    "application/vnd.databricks.v1+cell": {
     "cellMetadata": {
      "byteLimit": 2048000,
      "rowLimit": 10000
     },
     "inputWidgets": {},
     "nuid": "5d33805b-f4fd-42c1-9dee-93ae8333476e",
     "showTitle": false,
     "tableResultSettingsMap": {},
     "title": ""
    }
   },
   "outputs": [],
   "source": [
    "# Assign the transformed sales DataFrame to final_sales_df for further processing or saving\n",
    "final_sales_df = sales_df_transformed"
   ]
  },
  {
   "cell_type": "markdown",
   "metadata": {
    "application/vnd.databricks.v1+cell": {
     "cellMetadata": {},
     "inputWidgets": {},
     "nuid": "fe422686-27f6-4406-98dc-206c8ba1e2ad",
     "showTitle": false,
     "tableResultSettingsMap": {},
     "title": ""
    }
   },
   "source": [
    "Task 5: Storing Processed Data & Version Control Basics (Est. 6 hours)\n",
    "Objective: Save your transformed DataFrame to DBFS and commit your notebook to a Git repository."
   ]
  },
  {
   "cell_type": "code",
   "execution_count": 0,
   "metadata": {
    "application/vnd.databricks.v1+cell": {
     "cellMetadata": {
      "byteLimit": 2048000,
      "rowLimit": 10000
     },
     "inputWidgets": {},
     "nuid": "dd130029-8275-4d5f-b83a-05f9417dda0f",
     "showTitle": false,
     "tableResultSettingsMap": {},
     "title": ""
    }
   },
   "outputs": [
    {
     "output_type": "stream",
     "name": "stdout",
     "output_type": "stream",
     "text": [
      "DataFrame saved to Parquet at: /FileStore/tables/innovateretail/processed_sales_parquet\n"
     ]
    }
   ],
   "source": [
    "# Define the path in DBFS where the processed sales data will be saved in Parquet format\n",
    "output_path_parquet = \"/FileStore/tables/innovateretail/processed_sales_parquet\"\n",
    "\n",
    "# Save the final_sales_df DataFrame to the specified path in Parquet format\n",
    "# Using \"overwrite\" mode to replace any existing files at that location\n",
    "final_sales_df.write.mode(\"overwrite\").parquet(output_path_parquet)\n",
    "\n",
    "# Print confirmation message with the save location\n",
    "print(f\"DataFrame saved to Parquet at: {output_path_parquet}\")\n"
   ]
  },
  {
   "cell_type": "markdown",
   "metadata": {
    "application/vnd.databricks.v1+cell": {
     "cellMetadata": {},
     "inputWidgets": {},
     "nuid": "345bb987-eae1-46b5-95a1-830d10236934",
     "showTitle": false,
     "tableResultSettingsMap": {},
     "title": ""
    }
   },
   "source": [
    "Action 5.2: Set up Git and GitHub Repository\n",
    "--> databricks-de-training-week1\n"
   ]
  },
  {
   "cell_type": "code",
   "execution_count": 0,
   "metadata": {
    "application/vnd.databricks.v1+cell": {
     "cellMetadata": {},
     "inputWidgets": {},
     "nuid": "129eb7d2-417d-4ce6-8438-29c47e876095",
     "showTitle": false,
     "tableResultSettingsMap": {},
     "title": ""
    }
   },
   "outputs": [],
   "source": []
  }
 ],
 "metadata": {
  "application/vnd.databricks.v1+notebook": {
   "computePreferences": null,
   "dashboards": [],
   "environmentMetadata": {
    "base_environment": "",
    "environment_version": "2"
   },
   "inputWidgetPreferences": null,
   "language": "python",
   "notebookMetadata": {
    "mostRecentlyExecutedCommandWithImplicitDF": {
     "commandId": 8225363952797835,
     "dataframes": [
      "_sqldf"
     ]
    },
    "pythonIndentUnit": 4
   },
   "notebookName": "W1_SalesData_Exploration",
   "widgets": {}
  },
  "language_info": {
   "name": "python"
  }
 },
 "nbformat": 4,
 "nbformat_minor": 0
}